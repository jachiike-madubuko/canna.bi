{
 "cells": [
  {
   "cell_type": "code",
   "execution_count": 10,
   "metadata": {},
   "outputs": [],
   "source": [
    "from selenium import webdriver\n",
    "from selenium.webdriver.common.by import By\n"
   ]
  },
  {
   "cell_type": "code",
   "execution_count": 5,
   "metadata": {},
   "outputs": [
    {
     "name": "stderr",
     "output_type": "stream",
     "text": [
      "/var/folders/dx/zhmk7rt53qjb5rdt4bzxt1b40000gn/T/ipykernel_13462/3606428285.py:1: DeprecationWarning: executable_path has been deprecated, please pass in a Service object\n",
      "  driver = webdriver.Firefox(executable_path='./geckodriver')\n"
     ]
    }
   ],
   "source": [
    "driver = webdriver.Firefox(executable_path='./geckodriver')\n"
   ]
  },
  {
   "cell_type": "code",
   "execution_count": 9,
   "metadata": {},
   "outputs": [],
   "source": [
    "driver.get(\"http://www.leafly.com\")"
   ]
  },
  {
   "cell_type": "code",
   "execution_count": 26,
   "metadata": {},
   "outputs": [
    {
     "ename": "NoSuchElementException",
     "evalue": "Message: Unable to locate element: /html/body/div/div[15]/main/div[1]/div[2]/section[2]/div[10]/div/section/div[2]/div/div/div[1]\nStacktrace:\nWebDriverError@chrome://remote/content/shared/webdriver/Errors.jsm:183:5\nNoSuchElementError@chrome://remote/content/shared/webdriver/Errors.jsm:395:5\nelement.find/</<@chrome://remote/content/marionette/element.js:300:16\n",
     "output_type": "error",
     "traceback": [
      "\u001b[0;31m---------------------------------------------------------------------------\u001b[0m",
      "\u001b[0;31mNoSuchElementException\u001b[0m                    Traceback (most recent call last)",
      "\u001b[0;32m/var/folders/dx/zhmk7rt53qjb5rdt4bzxt1b40000gn/T/ipykernel_13462/956986752.py\u001b[0m in \u001b[0;36m<module>\u001b[0;34m\u001b[0m\n\u001b[0;32m----> 1\u001b[0;31m \u001b[0mleft_parent\u001b[0m \u001b[0;34m=\u001b[0m \u001b[0mdriver\u001b[0m\u001b[0;34m.\u001b[0m\u001b[0mfind_element\u001b[0m\u001b[0;34m(\u001b[0m\u001b[0mBy\u001b[0m\u001b[0;34m.\u001b[0m\u001b[0mXPATH\u001b[0m\u001b[0;34m,\u001b[0m \u001b[0;34m\"/html/body/div/div[15]/main/div[1]/div[2]/section[2]/div[10]/div/section/div[2]/div/div/div[1]\"\u001b[0m\u001b[0;34m)\u001b[0m\u001b[0;34m\u001b[0m\u001b[0;34m\u001b[0m\u001b[0m\n\u001b[0m\u001b[1;32m      2\u001b[0m \u001b[0mright_parent\u001b[0m \u001b[0;34m=\u001b[0m \u001b[0mdriver\u001b[0m\u001b[0;34m.\u001b[0m\u001b[0mfind_element\u001b[0m\u001b[0;34m(\u001b[0m\u001b[0mBy\u001b[0m\u001b[0;34m.\u001b[0m\u001b[0mXPATH\u001b[0m\u001b[0;34m,\u001b[0m \u001b[0;34m\"/html/body/div/div[15]/main/div[1]/div[2]/section[2]/div[10]/div/section/div[2]/div/div/div[2]\"\u001b[0m\u001b[0;34m)\u001b[0m\u001b[0;34m\u001b[0m\u001b[0;34m\u001b[0m\u001b[0m\n\u001b[1;32m      3\u001b[0m \u001b[0mleft_child\u001b[0m \u001b[0;34m=\u001b[0m \u001b[0mdriver\u001b[0m\u001b[0;34m.\u001b[0m\u001b[0mfind_element\u001b[0m\u001b[0;34m(\u001b[0m\u001b[0mBy\u001b[0m\u001b[0;34m.\u001b[0m\u001b[0mXPATH\u001b[0m\u001b[0;34m,\u001b[0m \u001b[0;34m\"/html/body/div/div[15]/main/div[1]/div[2]/section[2]/div[10]/div/section/div[2]/div/div/div[4]\"\u001b[0m\u001b[0;34m)\u001b[0m\u001b[0;34m\u001b[0m\u001b[0;34m\u001b[0m\u001b[0m\n\u001b[1;32m      4\u001b[0m \u001b[0mright_child\u001b[0m \u001b[0;34m=\u001b[0m \u001b[0mdriver\u001b[0m\u001b[0;34m.\u001b[0m\u001b[0mfind_element\u001b[0m\u001b[0;34m(\u001b[0m\u001b[0mBy\u001b[0m\u001b[0;34m.\u001b[0m\u001b[0mXPATH\u001b[0m\u001b[0;34m,\u001b[0m \u001b[0;34m\"/html/body/div/div[15]/main/div[1]/div[2]/section[2]/div[10]/div/section/div[2]/div/div/div[5]\"\u001b[0m\u001b[0;34m)\u001b[0m\u001b[0;34m\u001b[0m\u001b[0;34m\u001b[0m\u001b[0m\n",
      "\u001b[0;32m/Library/Frameworks/Python.framework/Versions/3.9/lib/python3.9/site-packages/selenium/webdriver/remote/webdriver.py\u001b[0m in \u001b[0;36mfind_element\u001b[0;34m(self, by, value)\u001b[0m\n\u001b[1;32m   1246\u001b[0m             \u001b[0mvalue\u001b[0m \u001b[0;34m=\u001b[0m \u001b[0;34m'[name=\"%s\"]'\u001b[0m \u001b[0;34m%\u001b[0m \u001b[0mvalue\u001b[0m\u001b[0;34m\u001b[0m\u001b[0;34m\u001b[0m\u001b[0m\n\u001b[1;32m   1247\u001b[0m \u001b[0;34m\u001b[0m\u001b[0m\n\u001b[0;32m-> 1248\u001b[0;31m         return self.execute(Command.FIND_ELEMENT, {\n\u001b[0m\u001b[1;32m   1249\u001b[0m             \u001b[0;34m'using'\u001b[0m\u001b[0;34m:\u001b[0m \u001b[0mby\u001b[0m\u001b[0;34m,\u001b[0m\u001b[0;34m\u001b[0m\u001b[0;34m\u001b[0m\u001b[0m\n\u001b[1;32m   1250\u001b[0m             'value': value})['value']\n",
      "\u001b[0;32m/Library/Frameworks/Python.framework/Versions/3.9/lib/python3.9/site-packages/selenium/webdriver/remote/webdriver.py\u001b[0m in \u001b[0;36mexecute\u001b[0;34m(self, driver_command, params)\u001b[0m\n\u001b[1;32m    423\u001b[0m         \u001b[0mresponse\u001b[0m \u001b[0;34m=\u001b[0m \u001b[0mself\u001b[0m\u001b[0;34m.\u001b[0m\u001b[0mcommand_executor\u001b[0m\u001b[0;34m.\u001b[0m\u001b[0mexecute\u001b[0m\u001b[0;34m(\u001b[0m\u001b[0mdriver_command\u001b[0m\u001b[0;34m,\u001b[0m \u001b[0mparams\u001b[0m\u001b[0;34m)\u001b[0m\u001b[0;34m\u001b[0m\u001b[0;34m\u001b[0m\u001b[0m\n\u001b[1;32m    424\u001b[0m         \u001b[0;32mif\u001b[0m \u001b[0mresponse\u001b[0m\u001b[0;34m:\u001b[0m\u001b[0;34m\u001b[0m\u001b[0;34m\u001b[0m\u001b[0m\n\u001b[0;32m--> 425\u001b[0;31m             \u001b[0mself\u001b[0m\u001b[0;34m.\u001b[0m\u001b[0merror_handler\u001b[0m\u001b[0;34m.\u001b[0m\u001b[0mcheck_response\u001b[0m\u001b[0;34m(\u001b[0m\u001b[0mresponse\u001b[0m\u001b[0;34m)\u001b[0m\u001b[0;34m\u001b[0m\u001b[0;34m\u001b[0m\u001b[0m\n\u001b[0m\u001b[1;32m    426\u001b[0m             response['value'] = self._unwrap_value(\n\u001b[1;32m    427\u001b[0m                 response.get('value', None))\n",
      "\u001b[0;32m/Library/Frameworks/Python.framework/Versions/3.9/lib/python3.9/site-packages/selenium/webdriver/remote/errorhandler.py\u001b[0m in \u001b[0;36mcheck_response\u001b[0;34m(self, response)\u001b[0m\n\u001b[1;32m    245\u001b[0m                 \u001b[0malert_text\u001b[0m \u001b[0;34m=\u001b[0m \u001b[0mvalue\u001b[0m\u001b[0;34m[\u001b[0m\u001b[0;34m'alert'\u001b[0m\u001b[0;34m]\u001b[0m\u001b[0;34m.\u001b[0m\u001b[0mget\u001b[0m\u001b[0;34m(\u001b[0m\u001b[0;34m'text'\u001b[0m\u001b[0;34m)\u001b[0m\u001b[0;34m\u001b[0m\u001b[0;34m\u001b[0m\u001b[0m\n\u001b[1;32m    246\u001b[0m             \u001b[0;32mraise\u001b[0m \u001b[0mexception_class\u001b[0m\u001b[0;34m(\u001b[0m\u001b[0mmessage\u001b[0m\u001b[0;34m,\u001b[0m \u001b[0mscreen\u001b[0m\u001b[0;34m,\u001b[0m \u001b[0mstacktrace\u001b[0m\u001b[0;34m,\u001b[0m \u001b[0malert_text\u001b[0m\u001b[0;34m)\u001b[0m  \u001b[0;31m# type: ignore[call-arg]  # mypy is not smart enough here\u001b[0m\u001b[0;34m\u001b[0m\u001b[0;34m\u001b[0m\u001b[0m\n\u001b[0;32m--> 247\u001b[0;31m         \u001b[0;32mraise\u001b[0m \u001b[0mexception_class\u001b[0m\u001b[0;34m(\u001b[0m\u001b[0mmessage\u001b[0m\u001b[0;34m,\u001b[0m \u001b[0mscreen\u001b[0m\u001b[0;34m,\u001b[0m \u001b[0mstacktrace\u001b[0m\u001b[0;34m)\u001b[0m\u001b[0;34m\u001b[0m\u001b[0;34m\u001b[0m\u001b[0m\n\u001b[0m\u001b[1;32m    248\u001b[0m \u001b[0;34m\u001b[0m\u001b[0m\n\u001b[1;32m    249\u001b[0m     \u001b[0;32mdef\u001b[0m \u001b[0m_value_or_default\u001b[0m\u001b[0;34m(\u001b[0m\u001b[0mself\u001b[0m\u001b[0;34m,\u001b[0m \u001b[0mobj\u001b[0m\u001b[0;34m:\u001b[0m \u001b[0mMapping\u001b[0m\u001b[0;34m[\u001b[0m\u001b[0m_KT\u001b[0m\u001b[0;34m,\u001b[0m \u001b[0m_VT\u001b[0m\u001b[0;34m]\u001b[0m\u001b[0;34m,\u001b[0m \u001b[0mkey\u001b[0m\u001b[0;34m:\u001b[0m \u001b[0m_KT\u001b[0m\u001b[0;34m,\u001b[0m \u001b[0mdefault\u001b[0m\u001b[0;34m:\u001b[0m \u001b[0m_VT\u001b[0m\u001b[0;34m)\u001b[0m \u001b[0;34m->\u001b[0m \u001b[0m_VT\u001b[0m\u001b[0;34m:\u001b[0m\u001b[0;34m\u001b[0m\u001b[0;34m\u001b[0m\u001b[0m\n",
      "\u001b[0;31mNoSuchElementException\u001b[0m: Message: Unable to locate element: /html/body/div/div[15]/main/div[1]/div[2]/section[2]/div[10]/div/section/div[2]/div/div/div[1]\nStacktrace:\nWebDriverError@chrome://remote/content/shared/webdriver/Errors.jsm:183:5\nNoSuchElementError@chrome://remote/content/shared/webdriver/Errors.jsm:395:5\nelement.find/</<@chrome://remote/content/marionette/element.js:300:16\n"
     ]
    }
   ],
   "source": [
    "left_parent = driver.find_element(By.XPATH, \"/html/body/div/div[15]/main/div[1]/div[2]/section[2]/div[10]/div/section/div[2]/div/div/div[1]\")\n",
    "right_parent = driver.find_element(By.XPATH, \"/html/body/div/div[15]/main/div[1]/div[2]/section[2]/div[10]/div/section/div[2]/div/div/div[2]\")\n",
    "left_child = driver.find_element(By.XPATH, \"/html/body/div/div[15]/main/div[1]/div[2]/section[2]/div[10]/div/section/div[2]/div/div/div[4]\")\n",
    "right_child = driver.find_element(By.XPATH, \"/html/body/div/div[15]/main/div[1]/div[2]/section[2]/div[10]/div/section/div[2]/div/div/div[5]\")"
   ]
  },
  {
   "cell_type": "code",
   "execution_count": 30,
   "metadata": {},
   "outputs": [],
   "source": [
    "left_parent = driver.find_element(By.XPATH, \"/html/body/div/div[15]/main/div[1]/div[2]/section[2]/div[9]/div/section/div[2]/div/div/div[1]\")\n",
    "right_parent = driver.find_element(By.XPATH, \"/html/body/div/div[15]/main/div[1]/div[2]/section[2]/div[9]/div/section/div[2]/div/div/div[2]\")\n"
   ]
  },
  {
   "cell_type": "code",
   "execution_count": 33,
   "metadata": {},
   "outputs": [],
   "source": [
    "\n",
    "left_child = driver.find_element(By.XPATH, \"/html/body/div/div[15]/main/div[1]/div[2]/section[2]/div[9]/div/section[1]/div[2]/div/div/div[2]\")\n",
    "right_child = driver.find_element(By.XPATH, \"/html/body/div/div[15]/main/div[1]/div[2]/section[2]/div[9]/div/section[1]/div[2]/div/div/div[3]\")"
   ]
  },
  {
   "cell_type": "code",
   "execution_count": 34,
   "metadata": {},
   "outputs": [
    {
     "data": {
      "text/plain": [
       "'Purple Kush\\nchild'"
      ]
     },
     "execution_count": 34,
     "metadata": {},
     "output_type": "execute_result"
    }
   ],
   "source": [
    "right_child.text"
   ]
  },
  {
   "cell_type": "code",
   "execution_count": 29,
   "metadata": {},
   "outputs": [
    {
     "data": {
      "text/plain": [
       "'Cherry Pie\\nparent'"
      ]
     },
     "execution_count": 29,
     "metadata": {},
     "output_type": "execute_result"
    }
   ],
   "source": [
    "right_parent.text"
   ]
  },
  {
   "cell_type": "code",
   "execution_count": 45,
   "metadata": {},
   "outputs": [],
   "source": [
    "right_child_no_parents = 'lineage__right-child--no-parents'\n",
    "left_child_no_parents = 'lineage__left-child--no-parents'"
   ]
  },
  {
   "cell_type": "code",
   "execution_count": null,
   "metadata": {},
   "outputs": [],
   "source": [
    "#only scrape and save parents"
   ]
  },
  {
   "cell_type": "code",
   "execution_count": null,
   "metadata": {},
   "outputs": [],
   "source": []
  },
  {
   "cell_type": "code",
   "execution_count": null,
   "metadata": {},
   "outputs": [],
   "source": []
  },
  {
   "cell_type": "code",
   "execution_count": 46,
   "metadata": {},
   "outputs": [],
   "source": [
    "r= driver.find_element(By.CLASS_NAME, right_child_no_parents).find_element(By.TAG_NAME, 'a').get_attribute('href').split('/')[-1]\n",
    "l= driver.find_element(By.CLASS_NAME, left_child_no_parents).find_element(By.TAG_NAME, 'a').get_attribute('href').split('/')[-1]"
   ]
  },
  {
   "cell_type": "code",
   "execution_count": 47,
   "metadata": {},
   "outputs": [
    {
     "data": {
      "text/plain": [
       "'og-kush'"
      ]
     },
     "execution_count": 47,
     "metadata": {},
     "output_type": "execute_result"
    }
   ],
   "source": [
    "l"
   ]
  },
  {
   "cell_type": "code",
   "execution_count": 48,
   "metadata": {},
   "outputs": [
    {
     "data": {
      "text/plain": [
       "'purple-kush'"
      ]
     },
     "execution_count": 48,
     "metadata": {},
     "output_type": "execute_result"
    }
   ],
   "source": [
    "r"
   ]
  },
  {
   "cell_type": "code",
   "execution_count": 42,
   "metadata": {},
   "outputs": [
    {
     "data": {
      "text/plain": [
       "'purple-kush'"
      ]
     },
     "execution_count": 42,
     "metadata": {},
     "output_type": "execute_result"
    }
   ],
   "source": [
    "t"
   ]
  },
  {
   "cell_type": "code",
   "execution_count": null,
   "metadata": {},
   "outputs": [],
   "source": [
    "## script\n",
    "\n",
    "# 1. "
   ]
  },
  {
   "cell_type": "code",
   "execution_count": 49,
   "metadata": {},
   "outputs": [],
   "source": [
    "import requests"
   ]
  },
  {
   "cell_type": "code",
   "execution_count": 93,
   "metadata": {},
   "outputs": [],
   "source": [
    "import pandas as pd"
   ]
  },
  {
   "cell_type": "code",
   "execution_count": 98,
   "metadata": {},
   "outputs": [],
   "source": [
    "from bs4 import BeautifulSoup\n",
    "import time"
   ]
  },
  {
   "cell_type": "code",
   "execution_count": 137,
   "metadata": {},
   "outputs": [],
   "source": [
    "family = []"
   ]
  },
  {
   "cell_type": "code",
   "execution_count": 138,
   "metadata": {},
   "outputs": [],
   "source": [
    "\n",
    "def find_parents(strain):\n",
    "    time.sleep(0.5)\n",
    "    page= requests.get(f'https://www.leafly.com/strains/{strain}')\n",
    "    soup = BeautifulSoup(page.content, \"html.parser\")\n",
    "    if soup.find('div' , class_=\"lineage__strain--two-parents\") :\n",
    "        try: \n",
    "            left = soup.find('div', class_='lineage__left-parent')\n",
    "            right = soup.find('div', class_='lineage__right-parent')\n",
    "            parent1 = left.find('a')['href'].split('/')[-1]\n",
    "            parent2 = right.find('a')['href'].split('/')[-1]\n",
    "            return (strain, parent1, parent2)\n",
    "            # print(f'{strain}: {parent1}<=>{parent2}')\n",
    "        except Exception as e:\n",
    "            print(e)\n",
    "            return (strain,None,None)\n",
    "            # return pd.Series([parent1, parent2])\n",
    "    "
   ]
  },
  {
   "cell_type": "code",
   "execution_count": 139,
   "metadata": {},
   "outputs": [],
   "source": [
    "df = pd.read_csv('../../data/raw/strains.csv')"
   ]
  },
  {
   "cell_type": "code",
   "execution_count": 140,
   "metadata": {},
   "outputs": [
    {
     "data": {
      "text/plain": [
       "2312"
      ]
     },
     "execution_count": 140,
     "metadata": {},
     "output_type": "execute_result"
    }
   ],
   "source": [
    "for strain in df.slug:\n",
    "    find_parents(strain)\n",
    "len(family)\n"
   ]
  },
  {
   "cell_type": "code",
   "execution_count": 143,
   "metadata": {},
   "outputs": [
    {
     "data": {
      "text/plain": [
       "6153"
      ]
     },
     "execution_count": 143,
     "metadata": {},
     "output_type": "execute_result"
    }
   ],
   "source": [
    "len(df.slug)"
   ]
  },
  {
   "cell_type": "code",
   "execution_count": 141,
   "metadata": {},
   "outputs": [],
   "source": [
    "pd.DataFrame.from_records(family, columns=['slug', 'parent_1', 'parent_2']).to_csv('../../data/raw/linage.csv')"
   ]
  },
  {
   "cell_type": "code",
   "execution_count": 142,
   "metadata": {},
   "outputs": [],
   "source": [
    "pd.DataFrame.from_records(family, columns=['slug', 'parent_1', 'parent_2']).to_csv('../../data/raw/linage.csv')"
   ]
  },
  {
   "cell_type": "code",
   "execution_count": 115,
   "metadata": {},
   "outputs": [
    {
     "data": {
      "text/plain": [
       "Index(['id', 'averageRating', 'category', 'flowerImageSvg', 'name', 'nugImage',\n",
       "       'phenotype', 'reviewCount', 'shortDescriptionPlain', 'slug',\n",
       "       ...\n",
       "       'terps_myrcene_score', 'terps_ocimene_name',\n",
       "       'terps_ocimene_description', 'terps_ocimene_score', 'terps_pinene_name',\n",
       "       'terps_pinene_description', 'terps_pinene_score',\n",
       "       'terps_terpinolene_name', 'terps_terpinolene_description',\n",
       "       'terps_terpinolene_score'],\n",
       "      dtype='object', length=129)"
      ]
     },
     "execution_count": 115,
     "metadata": {},
     "output_type": "execute_result"
    }
   ],
   "source": [
    "df.columns"
   ]
  },
  {
   "cell_type": "code",
   "execution_count": 146,
   "metadata": {},
   "outputs": [
    {
     "data": {
      "text/html": [
       "<div>\n",
       "<style scoped>\n",
       "    .dataframe tbody tr th:only-of-type {\n",
       "        vertical-align: middle;\n",
       "    }\n",
       "\n",
       "    .dataframe tbody tr th {\n",
       "        vertical-align: top;\n",
       "    }\n",
       "\n",
       "    .dataframe thead th {\n",
       "        text-align: right;\n",
       "    }\n",
       "</style>\n",
       "<table border=\"1\" class=\"dataframe\">\n",
       "  <thead>\n",
       "    <tr style=\"text-align: right;\">\n",
       "      <th></th>\n",
       "      <th>id</th>\n",
       "      <th>averageRating</th>\n",
       "      <th>category</th>\n",
       "      <th>flowerImageSvg</th>\n",
       "      <th>name</th>\n",
       "      <th>nugImage</th>\n",
       "      <th>phenotype</th>\n",
       "      <th>reviewCount</th>\n",
       "      <th>shortDescriptionPlain</th>\n",
       "      <th>slug</th>\n",
       "      <th>...</th>\n",
       "      <th>terps_myrcene_score</th>\n",
       "      <th>terps_ocimene_name</th>\n",
       "      <th>terps_ocimene_description</th>\n",
       "      <th>terps_ocimene_score</th>\n",
       "      <th>terps_pinene_name</th>\n",
       "      <th>terps_pinene_description</th>\n",
       "      <th>terps_pinene_score</th>\n",
       "      <th>terps_terpinolene_name</th>\n",
       "      <th>terps_terpinolene_description</th>\n",
       "      <th>terps_terpinolene_score</th>\n",
       "    </tr>\n",
       "  </thead>\n",
       "  <tbody>\n",
       "  </tbody>\n",
       "</table>\n",
       "<p>0 rows × 129 columns</p>\n",
       "</div>"
      ],
      "text/plain": [
       "Empty DataFrame\n",
       "Columns: [id, averageRating, category, flowerImageSvg, name, nugImage, phenotype, reviewCount, shortDescriptionPlain, slug, strainTopTerp, subtitle, thc, topEffect, distanceMi, cannabinoids_cbc_displayName, cannabinoids_cbc_order, cannabinoids_cbc_percentile25, cannabinoids_cbc_percentile50, cannabinoids_cbc_percentile75, cannabinoids_cbd_displayName, cannabinoids_cbd_order, cannabinoids_cbd_percentile25, cannabinoids_cbd_percentile50, cannabinoids_cbd_percentile75, cannabinoids_cbg_displayName, cannabinoids_cbg_order, cannabinoids_cbg_percentile25, cannabinoids_cbg_percentile50, cannabinoids_cbg_percentile75, cannabinoids_thc_displayName, cannabinoids_thc_order, cannabinoids_thc_percentile25, cannabinoids_thc_percentile50, cannabinoids_thc_percentile75, cannabinoids_thcv_displayName, cannabinoids_thcv_order, cannabinoids_thcv_percentile25, cannabinoids_thcv_percentile50, cannabinoids_thcv_percentile75, effects_aroused_name, effects_aroused_icon, effects_aroused_score, effects_aroused_type, effects_aroused_votes, effects_creative_name, effects_creative_icon, effects_creative_score, effects_creative_type, effects_creative_votes, effects_energetic_name, effects_energetic_icon, effects_energetic_score, effects_energetic_type, effects_energetic_votes, effects_euphoric_name, effects_euphoric_icon, effects_euphoric_score, effects_euphoric_type, effects_euphoric_votes, effects_focused_name, effects_focused_icon, effects_focused_score, effects_focused_type, effects_focused_votes, effects_giggly_name, effects_giggly_icon, effects_giggly_score, effects_giggly_type, effects_giggly_votes, effects_happy_name, effects_happy_icon, effects_happy_score, effects_happy_type, effects_happy_votes, effects_hungry_name, effects_hungry_icon, effects_hungry_score, effects_hungry_type, effects_hungry_votes, effects_relaxed_name, effects_relaxed_icon, effects_relaxed_score, effects_relaxed_type, effects_relaxed_votes, effects_sleepy_name, effects_sleepy_icon, effects_sleepy_score, effects_sleepy_type, effects_sleepy_votes, effects_talkative_name, effects_talkative_icon, effects_talkative_score, effects_talkative_type, effects_talkative_votes, effects_tingly_name, effects_tingly_icon, effects_tingly_score, effects_tingly_type, effects_tingly_votes, ...]\n",
       "Index: []\n",
       "\n",
       "[0 rows x 129 columns]"
      ]
     },
     "execution_count": 146,
     "metadata": {},
     "output_type": "execute_result"
    }
   ],
   "source": [
    "df[df.slug =='']"
   ]
  },
  {
   "cell_type": "code",
   "execution_count": 147,
   "metadata": {},
   "outputs": [],
   "source": [
    "find_parents('durban-poison')"
   ]
  },
  {
   "cell_type": "code",
   "execution_count": null,
   "metadata": {},
   "outputs": [],
   "source": []
  }
 ],
 "metadata": {
  "kernelspec": {
   "display_name": "Python 3.9.6 64-bit",
   "language": "python",
   "name": "python3"
  },
  "language_info": {
   "codemirror_mode": {
    "name": "ipython",
    "version": 3
   },
   "file_extension": ".py",
   "mimetype": "text/x-python",
   "name": "python",
   "nbconvert_exporter": "python",
   "pygments_lexer": "ipython3",
   "version": "3.9.6"
  },
  "orig_nbformat": 4,
  "vscode": {
   "interpreter": {
    "hash": "aee8b7b246df8f9039afb4144a1f6fd8d2ca17a180786b69acc140d282b71a49"
   }
  }
 },
 "nbformat": 4,
 "nbformat_minor": 2
}
