{
 "cells": [
  {
   "cell_type": "code",
   "execution_count": 1,
   "metadata": {},
   "outputs": [],
   "source": [
    "# https://plotly.com/python/tree-plots/"
   ]
  },
  {
   "cell_type": "code",
   "execution_count": 2,
   "metadata": {},
   "outputs": [
    {
     "name": "stdout",
     "output_type": "stream",
     "text": [
      "Collecting python-igraph\n",
      "  Downloading python-igraph-0.10.2.tar.gz (9.5 kB)\n",
      "Collecting igraph==0.10.2\n",
      "  Downloading igraph-0.10.2-cp38-cp38-macosx_10_9_x86_64.whl (2.1 MB)\n",
      "\u001b[K     |████████████████████████████████| 2.1 MB 1.3 MB/s eta 0:00:01\n",
      "\u001b[?25hCollecting texttable>=1.6.2\n",
      "  Downloading texttable-1.6.4-py2.py3-none-any.whl (10 kB)\n",
      "Building wheels for collected packages: python-igraph\n",
      "  Building wheel for python-igraph (setup.py) ... \u001b[?25ldone\n",
      "\u001b[?25h  Created wheel for python-igraph: filename=python_igraph-0.10.2-py3-none-any.whl size=9060 sha256=1b072531e0ca08f2b1d2dc329877075976f2bfd1112a414ab2191a6e2c8b1f1e\n",
      "  Stored in directory: /Users/jachiike/Library/Caches/pip/wheels/47/93/11/c7c992fab551e7a7fa504097aac4b992dac996aa1c81490afb\n",
      "Successfully built python-igraph\n",
      "Installing collected packages: texttable, igraph, python-igraph\n",
      "Successfully installed igraph-0.10.2 python-igraph-0.10.2 texttable-1.6.4\n"
     ]
    }
   ],
   "source": [
    "!pip install python-igraph\n"
   ]
  },
  {
   "cell_type": "code",
   "execution_count": 16,
   "metadata": {},
   "outputs": [],
   "source": [
    "import pandas as pd"
   ]
  },
  {
   "cell_type": "code",
   "execution_count": 21,
   "metadata": {},
   "outputs": [
    {
     "data": {
      "text/html": [
       "<div>\n",
       "<style scoped>\n",
       "    .dataframe tbody tr th:only-of-type {\n",
       "        vertical-align: middle;\n",
       "    }\n",
       "\n",
       "    .dataframe tbody tr th {\n",
       "        vertical-align: top;\n",
       "    }\n",
       "\n",
       "    .dataframe thead th {\n",
       "        text-align: right;\n",
       "    }\n",
       "</style>\n",
       "<table border=\"1\" class=\"dataframe\">\n",
       "  <thead>\n",
       "    <tr style=\"text-align: right;\">\n",
       "      <th></th>\n",
       "      <th>Unnamed: 0</th>\n",
       "      <th>id</th>\n",
       "      <th>averageRating</th>\n",
       "      <th>category</th>\n",
       "      <th>name</th>\n",
       "      <th>phenotype</th>\n",
       "      <th>reviewCount</th>\n",
       "      <th>slug</th>\n",
       "      <th>strainTopTerp</th>\n",
       "      <th>subtitle</th>\n",
       "      <th>...</th>\n",
       "      <th>terps_humulene_score</th>\n",
       "      <th>terps_limonene_score</th>\n",
       "      <th>terps_linalool_score</th>\n",
       "      <th>terps_myrcene_score</th>\n",
       "      <th>terps_ocimene_score</th>\n",
       "      <th>terps_pinene_score</th>\n",
       "      <th>terps_terpinolene_score</th>\n",
       "      <th>slug_lineage</th>\n",
       "      <th>parent_1</th>\n",
       "      <th>parent_2</th>\n",
       "    </tr>\n",
       "  </thead>\n",
       "  <tbody>\n",
       "    <tr>\n",
       "      <th>0</th>\n",
       "      <td>0</td>\n",
       "      <td>233839</td>\n",
       "      <td>4.564078</td>\n",
       "      <td>Hybrid</td>\n",
       "      <td>Wedding Cake</td>\n",
       "      <td>Hybrid</td>\n",
       "      <td>2060</td>\n",
       "      <td>wedding-cake</td>\n",
       "      <td>limonene</td>\n",
       "      <td>aka Triangle Mints #23, Pink Cookies</td>\n",
       "      <td>...</td>\n",
       "      <td>0.117106</td>\n",
       "      <td>0.378115</td>\n",
       "      <td>0.208215</td>\n",
       "      <td>0.355683</td>\n",
       "      <td>0.008820</td>\n",
       "      <td>0.130472</td>\n",
       "      <td>0.027740</td>\n",
       "      <td>wedding-cake</td>\n",
       "      <td>animal-mints</td>\n",
       "      <td>triangle-mints</td>\n",
       "    </tr>\n",
       "    <tr>\n",
       "      <th>1</th>\n",
       "      <td>1</td>\n",
       "      <td>65591</td>\n",
       "      <td>4.639808</td>\n",
       "      <td>Hybrid</td>\n",
       "      <td>GG4</td>\n",
       "      <td>Hybrid</td>\n",
       "      <td>4989</td>\n",
       "      <td>original-glue</td>\n",
       "      <td>caryophyllene</td>\n",
       "      <td>aka Gorilla Glue, Original Glue, Gorilla Glue ...</td>\n",
       "      <td>...</td>\n",
       "      <td>0.245000</td>\n",
       "      <td>0.400000</td>\n",
       "      <td>0.115000</td>\n",
       "      <td>0.410000</td>\n",
       "      <td>0.015000</td>\n",
       "      <td>0.118333</td>\n",
       "      <td>0.025000</td>\n",
       "      <td>original-glue</td>\n",
       "      <td>sour-dubble</td>\n",
       "      <td>chems-sister</td>\n",
       "    </tr>\n",
       "    <tr>\n",
       "      <th>2</th>\n",
       "      <td>2</td>\n",
       "      <td>504256</td>\n",
       "      <td>4.557951</td>\n",
       "      <td>Hybrid</td>\n",
       "      <td>Runtz</td>\n",
       "      <td>Hybrid</td>\n",
       "      <td>742</td>\n",
       "      <td>runtz</td>\n",
       "      <td>caryophyllene</td>\n",
       "      <td>aka Runtz OG</td>\n",
       "      <td>...</td>\n",
       "      <td>0.104225</td>\n",
       "      <td>0.264417</td>\n",
       "      <td>0.137167</td>\n",
       "      <td>0.062000</td>\n",
       "      <td>0.017500</td>\n",
       "      <td>0.091542</td>\n",
       "      <td>0.024583</td>\n",
       "      <td>runtz</td>\n",
       "      <td>gelato</td>\n",
       "      <td>zkittlez</td>\n",
       "    </tr>\n",
       "    <tr>\n",
       "      <th>3</th>\n",
       "      <td>3</td>\n",
       "      <td>503179</td>\n",
       "      <td>4.618434</td>\n",
       "      <td>Indica</td>\n",
       "      <td>Ice Cream Cake</td>\n",
       "      <td>Indica</td>\n",
       "      <td>1009</td>\n",
       "      <td>ice-cream-cake</td>\n",
       "      <td>caryophyllene</td>\n",
       "      <td>NaN</td>\n",
       "      <td>...</td>\n",
       "      <td>0.160940</td>\n",
       "      <td>0.418668</td>\n",
       "      <td>0.238275</td>\n",
       "      <td>0.199178</td>\n",
       "      <td>0.012209</td>\n",
       "      <td>0.126561</td>\n",
       "      <td>0.023545</td>\n",
       "      <td>ice-cream-cake</td>\n",
       "      <td>wedding-cake</td>\n",
       "      <td>gelato-33</td>\n",
       "    </tr>\n",
       "    <tr>\n",
       "      <th>4</th>\n",
       "      <td>4</td>\n",
       "      <td>174127</td>\n",
       "      <td>4.600363</td>\n",
       "      <td>Hybrid</td>\n",
       "      <td>Gelato</td>\n",
       "      <td>Hybrid</td>\n",
       "      <td>2202</td>\n",
       "      <td>gelato</td>\n",
       "      <td>caryophyllene</td>\n",
       "      <td>aka Gelato 42, Larry Bird</td>\n",
       "      <td>...</td>\n",
       "      <td>0.190465</td>\n",
       "      <td>0.362513</td>\n",
       "      <td>0.143407</td>\n",
       "      <td>0.128459</td>\n",
       "      <td>0.027078</td>\n",
       "      <td>0.127167</td>\n",
       "      <td>0.016123</td>\n",
       "      <td>gelato</td>\n",
       "      <td>sunset-sherbert</td>\n",
       "      <td>thin-mint</td>\n",
       "    </tr>\n",
       "  </tbody>\n",
       "</table>\n",
       "<p>5 rows × 51 columns</p>\n",
       "</div>"
      ],
      "text/plain": [
       "   Unnamed: 0      id  averageRating category            name phenotype  \\\n",
       "0           0  233839       4.564078   Hybrid    Wedding Cake    Hybrid   \n",
       "1           1   65591       4.639808   Hybrid             GG4    Hybrid   \n",
       "2           2  504256       4.557951   Hybrid           Runtz    Hybrid   \n",
       "3           3  503179       4.618434   Indica  Ice Cream Cake    Indica   \n",
       "4           4  174127       4.600363   Hybrid          Gelato    Hybrid   \n",
       "\n",
       "   reviewCount            slug  strainTopTerp  \\\n",
       "0         2060    wedding-cake       limonene   \n",
       "1         4989   original-glue  caryophyllene   \n",
       "2          742           runtz  caryophyllene   \n",
       "3         1009  ice-cream-cake  caryophyllene   \n",
       "4         2202          gelato  caryophyllene   \n",
       "\n",
       "                                            subtitle  ...  \\\n",
       "0               aka Triangle Mints #23, Pink Cookies  ...   \n",
       "1  aka Gorilla Glue, Original Glue, Gorilla Glue ...  ...   \n",
       "2                                       aka Runtz OG  ...   \n",
       "3                                                NaN  ...   \n",
       "4                          aka Gelato 42, Larry Bird  ...   \n",
       "\n",
       "   terps_humulene_score terps_limonene_score  terps_linalool_score  \\\n",
       "0              0.117106             0.378115              0.208215   \n",
       "1              0.245000             0.400000              0.115000   \n",
       "2              0.104225             0.264417              0.137167   \n",
       "3              0.160940             0.418668              0.238275   \n",
       "4              0.190465             0.362513              0.143407   \n",
       "\n",
       "   terps_myrcene_score  terps_ocimene_score  terps_pinene_score  \\\n",
       "0             0.355683             0.008820            0.130472   \n",
       "1             0.410000             0.015000            0.118333   \n",
       "2             0.062000             0.017500            0.091542   \n",
       "3             0.199178             0.012209            0.126561   \n",
       "4             0.128459             0.027078            0.127167   \n",
       "\n",
       "   terps_terpinolene_score    slug_lineage         parent_1        parent_2  \n",
       "0                 0.027740    wedding-cake     animal-mints  triangle-mints  \n",
       "1                 0.025000   original-glue      sour-dubble    chems-sister  \n",
       "2                 0.024583           runtz           gelato        zkittlez  \n",
       "3                 0.023545  ice-cream-cake     wedding-cake       gelato-33  \n",
       "4                 0.016123          gelato  sunset-sherbert       thin-mint  \n",
       "\n",
       "[5 rows x 51 columns]"
      ]
     },
     "execution_count": 21,
     "metadata": {},
     "output_type": "execute_result"
    }
   ],
   "source": [
    "df = pd.read_csv('../../data/interim/strains.csv', index_col=0)\n",
    "df.head()"
   ]
  },
  {
   "cell_type": "code",
   "execution_count": 22,
   "metadata": {},
   "outputs": [],
   "source": [
    "df.drop(columns=['Unnamed: 0'],inplace=True)"
   ]
  },
  {
   "cell_type": "code",
   "execution_count": 23,
   "metadata": {},
   "outputs": [
    {
     "data": {
      "text/html": [
       "<div>\n",
       "<style scoped>\n",
       "    .dataframe tbody tr th:only-of-type {\n",
       "        vertical-align: middle;\n",
       "    }\n",
       "\n",
       "    .dataframe tbody tr th {\n",
       "        vertical-align: top;\n",
       "    }\n",
       "\n",
       "    .dataframe thead th {\n",
       "        text-align: right;\n",
       "    }\n",
       "</style>\n",
       "<table border=\"1\" class=\"dataframe\">\n",
       "  <thead>\n",
       "    <tr style=\"text-align: right;\">\n",
       "      <th></th>\n",
       "      <th>id</th>\n",
       "      <th>averageRating</th>\n",
       "      <th>category</th>\n",
       "      <th>name</th>\n",
       "      <th>phenotype</th>\n",
       "      <th>reviewCount</th>\n",
       "      <th>slug</th>\n",
       "      <th>strainTopTerp</th>\n",
       "      <th>subtitle</th>\n",
       "      <th>thc</th>\n",
       "      <th>...</th>\n",
       "      <th>terps_humulene_score</th>\n",
       "      <th>terps_limonene_score</th>\n",
       "      <th>terps_linalool_score</th>\n",
       "      <th>terps_myrcene_score</th>\n",
       "      <th>terps_ocimene_score</th>\n",
       "      <th>terps_pinene_score</th>\n",
       "      <th>terps_terpinolene_score</th>\n",
       "      <th>slug_lineage</th>\n",
       "      <th>parent_1</th>\n",
       "      <th>parent_2</th>\n",
       "    </tr>\n",
       "  </thead>\n",
       "  <tbody>\n",
       "    <tr>\n",
       "      <th>0</th>\n",
       "      <td>233839</td>\n",
       "      <td>4.564078</td>\n",
       "      <td>Hybrid</td>\n",
       "      <td>Wedding Cake</td>\n",
       "      <td>Hybrid</td>\n",
       "      <td>2060</td>\n",
       "      <td>wedding-cake</td>\n",
       "      <td>limonene</td>\n",
       "      <td>aka Triangle Mints #23, Pink Cookies</td>\n",
       "      <td>24.0</td>\n",
       "      <td>...</td>\n",
       "      <td>0.117106</td>\n",
       "      <td>0.378115</td>\n",
       "      <td>0.208215</td>\n",
       "      <td>0.355683</td>\n",
       "      <td>0.008820</td>\n",
       "      <td>0.130472</td>\n",
       "      <td>0.027740</td>\n",
       "      <td>wedding-cake</td>\n",
       "      <td>animal-mints</td>\n",
       "      <td>triangle-mints</td>\n",
       "    </tr>\n",
       "    <tr>\n",
       "      <th>1</th>\n",
       "      <td>65591</td>\n",
       "      <td>4.639808</td>\n",
       "      <td>Hybrid</td>\n",
       "      <td>GG4</td>\n",
       "      <td>Hybrid</td>\n",
       "      <td>4989</td>\n",
       "      <td>original-glue</td>\n",
       "      <td>caryophyllene</td>\n",
       "      <td>aka Gorilla Glue, Original Glue, Gorilla Glue ...</td>\n",
       "      <td>20.0</td>\n",
       "      <td>...</td>\n",
       "      <td>0.245000</td>\n",
       "      <td>0.400000</td>\n",
       "      <td>0.115000</td>\n",
       "      <td>0.410000</td>\n",
       "      <td>0.015000</td>\n",
       "      <td>0.118333</td>\n",
       "      <td>0.025000</td>\n",
       "      <td>original-glue</td>\n",
       "      <td>sour-dubble</td>\n",
       "      <td>chems-sister</td>\n",
       "    </tr>\n",
       "    <tr>\n",
       "      <th>2</th>\n",
       "      <td>504256</td>\n",
       "      <td>4.557951</td>\n",
       "      <td>Hybrid</td>\n",
       "      <td>Runtz</td>\n",
       "      <td>Hybrid</td>\n",
       "      <td>742</td>\n",
       "      <td>runtz</td>\n",
       "      <td>caryophyllene</td>\n",
       "      <td>aka Runtz OG</td>\n",
       "      <td>20.0</td>\n",
       "      <td>...</td>\n",
       "      <td>0.104225</td>\n",
       "      <td>0.264417</td>\n",
       "      <td>0.137167</td>\n",
       "      <td>0.062000</td>\n",
       "      <td>0.017500</td>\n",
       "      <td>0.091542</td>\n",
       "      <td>0.024583</td>\n",
       "      <td>runtz</td>\n",
       "      <td>gelato</td>\n",
       "      <td>zkittlez</td>\n",
       "    </tr>\n",
       "    <tr>\n",
       "      <th>3</th>\n",
       "      <td>503179</td>\n",
       "      <td>4.618434</td>\n",
       "      <td>Indica</td>\n",
       "      <td>Ice Cream Cake</td>\n",
       "      <td>Indica</td>\n",
       "      <td>1009</td>\n",
       "      <td>ice-cream-cake</td>\n",
       "      <td>caryophyllene</td>\n",
       "      <td>NaN</td>\n",
       "      <td>23.0</td>\n",
       "      <td>...</td>\n",
       "      <td>0.160940</td>\n",
       "      <td>0.418668</td>\n",
       "      <td>0.238275</td>\n",
       "      <td>0.199178</td>\n",
       "      <td>0.012209</td>\n",
       "      <td>0.126561</td>\n",
       "      <td>0.023545</td>\n",
       "      <td>ice-cream-cake</td>\n",
       "      <td>wedding-cake</td>\n",
       "      <td>gelato-33</td>\n",
       "    </tr>\n",
       "    <tr>\n",
       "      <th>4</th>\n",
       "      <td>174127</td>\n",
       "      <td>4.600363</td>\n",
       "      <td>Hybrid</td>\n",
       "      <td>Gelato</td>\n",
       "      <td>Hybrid</td>\n",
       "      <td>2202</td>\n",
       "      <td>gelato</td>\n",
       "      <td>caryophyllene</td>\n",
       "      <td>aka Gelato 42, Larry Bird</td>\n",
       "      <td>16.0</td>\n",
       "      <td>...</td>\n",
       "      <td>0.190465</td>\n",
       "      <td>0.362513</td>\n",
       "      <td>0.143407</td>\n",
       "      <td>0.128459</td>\n",
       "      <td>0.027078</td>\n",
       "      <td>0.127167</td>\n",
       "      <td>0.016123</td>\n",
       "      <td>gelato</td>\n",
       "      <td>sunset-sherbert</td>\n",
       "      <td>thin-mint</td>\n",
       "    </tr>\n",
       "  </tbody>\n",
       "</table>\n",
       "<p>5 rows × 50 columns</p>\n",
       "</div>"
      ],
      "text/plain": [
       "       id  averageRating category            name phenotype  reviewCount  \\\n",
       "0  233839       4.564078   Hybrid    Wedding Cake    Hybrid         2060   \n",
       "1   65591       4.639808   Hybrid             GG4    Hybrid         4989   \n",
       "2  504256       4.557951   Hybrid           Runtz    Hybrid          742   \n",
       "3  503179       4.618434   Indica  Ice Cream Cake    Indica         1009   \n",
       "4  174127       4.600363   Hybrid          Gelato    Hybrid         2202   \n",
       "\n",
       "             slug  strainTopTerp  \\\n",
       "0    wedding-cake       limonene   \n",
       "1   original-glue  caryophyllene   \n",
       "2           runtz  caryophyllene   \n",
       "3  ice-cream-cake  caryophyllene   \n",
       "4          gelato  caryophyllene   \n",
       "\n",
       "                                            subtitle   thc  ...  \\\n",
       "0               aka Triangle Mints #23, Pink Cookies  24.0  ...   \n",
       "1  aka Gorilla Glue, Original Glue, Gorilla Glue ...  20.0  ...   \n",
       "2                                       aka Runtz OG  20.0  ...   \n",
       "3                                                NaN  23.0  ...   \n",
       "4                          aka Gelato 42, Larry Bird  16.0  ...   \n",
       "\n",
       "  terps_humulene_score  terps_limonene_score  terps_linalool_score  \\\n",
       "0             0.117106              0.378115              0.208215   \n",
       "1             0.245000              0.400000              0.115000   \n",
       "2             0.104225              0.264417              0.137167   \n",
       "3             0.160940              0.418668              0.238275   \n",
       "4             0.190465              0.362513              0.143407   \n",
       "\n",
       "   terps_myrcene_score  terps_ocimene_score  terps_pinene_score  \\\n",
       "0             0.355683             0.008820            0.130472   \n",
       "1             0.410000             0.015000            0.118333   \n",
       "2             0.062000             0.017500            0.091542   \n",
       "3             0.199178             0.012209            0.126561   \n",
       "4             0.128459             0.027078            0.127167   \n",
       "\n",
       "   terps_terpinolene_score    slug_lineage         parent_1        parent_2  \n",
       "0                 0.027740    wedding-cake     animal-mints  triangle-mints  \n",
       "1                 0.025000   original-glue      sour-dubble    chems-sister  \n",
       "2                 0.024583           runtz           gelato        zkittlez  \n",
       "3                 0.023545  ice-cream-cake     wedding-cake       gelato-33  \n",
       "4                 0.016123          gelato  sunset-sherbert       thin-mint  \n",
       "\n",
       "[5 rows x 50 columns]"
      ]
     },
     "execution_count": 23,
     "metadata": {},
     "output_type": "execute_result"
    }
   ],
   "source": [
    "df.head()"
   ]
  },
  {
   "cell_type": "code",
   "execution_count": 25,
   "metadata": {},
   "outputs": [],
   "source": [
    "linage_df  = df[['slug', 'parent_1',\t'parent_2']]"
   ]
  },
  {
   "cell_type": "code",
   "execution_count": 30,
   "metadata": {},
   "outputs": [
    {
     "data": {
      "text/plain": [
       "6153"
      ]
     },
     "execution_count": 30,
     "metadata": {},
     "output_type": "execute_result"
    }
   ],
   "source": [
    "linage_df.shape[0]"
   ]
  },
  {
   "cell_type": "code",
   "execution_count": null,
   "metadata": {},
   "outputs": [],
   "source": [
    "#TODO read in list of indices into graph, then match slugs to indices\n",
    "#TODO create tuple pairs (parent, child) for directed graph edge additions\n",
    "# then loop thru list of tuple pairs to create  graph"
   ]
  },
  {
   "cell_type": "code",
   "execution_count": null,
   "metadata": {},
   "outputs": [],
   "source": [
    "# melting df\n",
    "linage_df"
   ]
  },
  {
   "cell_type": "code",
   "execution_count": null,
   "metadata": {},
   "outputs": [],
   "source": [
    "import igraph\n",
    "from igraph import Graph, EdgeSeq"
   ]
  },
  {
   "cell_type": "code",
   "execution_count": 33,
   "metadata": {},
   "outputs": [],
   "source": [
    "def generate_linage():\n",
    "    G = Graph()\n",
    "    G.add_vertices(linage_df.shape[0])\n",
    "    G.vs['name'] = linage_df.slug\n",
    "    \n",
    "    #how to  generate list of (parent, child) tuples from my df\n",
    "    # look up df melt, or stack, where c, f, v => c, type_f_or_v\n",
    "    #could just self join\n",
    "    #how to make this directed \n",
    "\n",
    "    # g.add_edges([(2, 3), (3, 4), (4, 5), (5, 3)])\n",
    "    \n",
    "    #add more data later https://igraph.readthedocs.io/en/0.10.2/tutorial.html#setting-and-retrieving-attributes\n",
    "    return G"
   ]
  },
  {
   "cell_type": "code",
   "execution_count": null,
   "metadata": {},
   "outputs": [],
   "source": []
  },
  {
   "cell_type": "code",
   "execution_count": 34,
   "metadata": {},
   "outputs": [],
   "source": [
    "f = generate_linage()\n"
   ]
  },
  {
   "cell_type": "code",
   "execution_count": 35,
   "metadata": {},
   "outputs": [
    {
     "name": "stdout",
     "output_type": "stream",
     "text": [
      "IGRAPH UN-- 6153 0 --\n",
      "+ attr: name (v)\n"
     ]
    }
   ],
   "source": [
    "print(f)"
   ]
  },
  {
   "cell_type": "code",
   "execution_count": 15,
   "metadata": {},
   "outputs": [],
   "source": [
    "nr_vertices = 25\n",
    "v_label = list(map(str, range(nr_vertices)))"
   ]
  },
  {
   "cell_type": "code",
   "execution_count": 1,
   "metadata": {},
   "outputs": [],
   "source": [
    "\n",
    "nr_vertices = 25\n",
    "v_label = list(map(str, range(nr_vertices)))\n",
    "# v_label will be the df indicies\n",
    "G = Graph.Tree(nr_vertices, 2) # 2 stands for children number\n",
    "# G = generate_linage()\n",
    "lay = G.layout('rt')\n",
    "\n",
    "position = {k: lay[k] for k in range(nr_vertices)}\n",
    "Y = [lay[k][1] for k in range(nr_vertices)]\n",
    "M = max(Y)\n",
    "\n",
    "es = EdgeSeq(G) # sequence of edges\n",
    "E = [e.tuple for e in G.es] # list of edges\n",
    "\n",
    "L = len(position)\n",
    "Xn = [position[k][0] for k in range(L)]\n",
    "Yn = [2*M-position[k][1] for k in range(L)]\n",
    "Xe = []\n",
    "Ye = []\n",
    "for edge in E:\n",
    "    Xe+=[position[edge[0]][0],position[edge[1]][0], None]\n",
    "    Ye+=[2*M-position[edge[0]][1],2*M-position[edge[1]][1], None]\n",
    "\n",
    "labels = v_label"
   ]
  },
  {
   "cell_type": "code",
   "execution_count": null,
   "metadata": {},
   "outputs": [],
   "source": [
    "# adding slugs as the name for the ID\n",
    "# https://igraph.readthedocs.io/en/0.10.2/api/igraph.Graph.html\n",
    "g = Graph.Full(3)\n",
    "# strain_g = Graph.Full(len(df))\n",
    "g.vs[\"name\"] = [\"A\", \"B\", \"C\"]\n",
    "# strain_g.vs[\"name\"] = df.slug\n",
    "g[1, 2]\n",
    "g[\"A\", \"B\"]\n",
    "g[\"A\", \"B\"] = 0\n",
    "g.ecount()"
   ]
  },
  {
   "cell_type": "code",
   "execution_count": 10,
   "metadata": {},
   "outputs": [
    {
     "name": "stdout",
     "output_type": "stream",
     "text": [
      "Collecting plotly\n",
      "  Downloading plotly-5.11.0-py2.py3-none-any.whl (15.3 MB)\n",
      "\u001b[K     |████████████████████████████████| 15.3 MB 3.8 MB/s eta 0:00:01\n",
      "\u001b[?25hCollecting tenacity>=6.2.0\n",
      "  Downloading tenacity-8.1.0-py3-none-any.whl (23 kB)\n",
      "Installing collected packages: tenacity, plotly\n",
      "Successfully installed plotly-5.11.0 tenacity-8.1.0\n"
     ]
    }
   ],
   "source": [
    "!pip install plotly"
   ]
  },
  {
   "cell_type": "code",
   "execution_count": 12,
   "metadata": {},
   "outputs": [
    {
     "data": {
      "application/vnd.plotly.v1+json": {
       "config": {
        "plotlyServerURL": "https://plot.ly"
       },
       "data": [
        {
         "hoverinfo": "none",
         "line": {
          "color": "rgb(210,210,210)",
          "width": 1
         },
         "mode": "lines",
         "type": "scatter",
         "x": [
          -3.333333333333333,
          -3.333333333333333,
          null,
          -3.333333333333333,
          0,
          null,
          -3.333333333333333,
          -5.333333333333333,
          null,
          -3.333333333333333,
          -1.333333333333333,
          null,
          0,
          0.666666666666667,
          null,
          0,
          2.666666666666667,
          null,
          -5.333333333333333,
          -6.333333333333333,
          null,
          -5.333333333333333,
          -4.333333333333333,
          null,
          -1.333333333333333,
          -2.333333333333333,
          null,
          -1.333333333333333,
          -0.33333333333333304,
          null,
          0.666666666666667,
          0.16666666666666696,
          null,
          0.666666666666667,
          1.166666666666667,
          null,
          2.666666666666667,
          2.166666666666667,
          null,
          2.666666666666667,
          3.166666666666667,
          null,
          -6.333333333333333,
          -6.833333333333333,
          null,
          -6.333333333333333,
          -5.833333333333333,
          null,
          -4.333333333333333,
          -4.833333333333333,
          null,
          -4.333333333333333,
          -3.833333333333333,
          null,
          -2.333333333333333,
          -2.833333333333333,
          null,
          -2.333333333333333,
          -1.833333333333333,
          null,
          -0.33333333333333304,
          -0.833333333333333,
          null,
          -0.33333333333333304,
          0.16666666666666696,
          null,
          0.16666666666666696,
          -0.33333333333333304,
          null,
          0.16666666666666696,
          0.666666666666667,
          null
         ],
         "y": [
          9,
          8,
          null,
          9,
          10,
          null,
          8,
          7,
          null,
          8,
          7,
          null,
          10,
          9,
          null,
          10,
          9,
          null,
          7,
          6,
          null,
          7,
          6,
          null,
          7,
          6,
          null,
          7,
          6,
          null,
          9,
          8,
          null,
          9,
          8,
          null,
          9,
          8,
          null,
          9,
          8,
          null,
          6,
          5,
          null,
          6,
          5,
          null,
          6,
          5,
          null,
          6,
          5,
          null,
          6,
          5,
          null,
          6,
          5,
          null,
          6,
          5,
          null,
          6,
          5,
          null,
          8,
          7,
          null,
          8,
          7,
          null
         ]
        },
        {
         "hoverinfo": "text",
         "marker": {
          "color": "#6175c1",
          "line": {
           "color": "rgb(50,50,50)",
           "width": 1
          },
          "size": 18,
          "symbol": "circle-dot"
         },
         "mode": "markers",
         "name": "bla",
         "opacity": 0.8,
         "text": [
          "0",
          "1",
          "2",
          "3",
          "4",
          "5",
          "6",
          "7",
          "8",
          "9",
          "10",
          "11",
          "12",
          "13",
          "14",
          "15",
          "16",
          "17",
          "18",
          "19",
          "20",
          "21",
          "22",
          "23",
          "24"
         ],
         "type": "scatter",
         "x": [
          -3.333333333333333,
          -3.333333333333333,
          0,
          -5.333333333333333,
          -1.333333333333333,
          0.666666666666667,
          2.666666666666667,
          -6.333333333333333,
          -4.333333333333333,
          -2.333333333333333,
          -0.33333333333333304,
          0.16666666666666696,
          1.166666666666667,
          2.166666666666667,
          3.166666666666667,
          -6.833333333333333,
          -5.833333333333333,
          -4.833333333333333,
          -3.833333333333333,
          -2.833333333333333,
          -1.833333333333333,
          -0.833333333333333,
          0.16666666666666696,
          -0.33333333333333304,
          0.666666666666667
         ],
         "y": [
          9,
          8,
          10,
          7,
          7,
          9,
          9,
          6,
          6,
          6,
          6,
          8,
          8,
          8,
          8,
          5,
          5,
          5,
          5,
          5,
          5,
          5,
          5,
          7,
          7
         ]
        }
       ],
       "layout": {
        "template": {
         "data": {
          "bar": [
           {
            "error_x": {
             "color": "#2a3f5f"
            },
            "error_y": {
             "color": "#2a3f5f"
            },
            "marker": {
             "line": {
              "color": "#E5ECF6",
              "width": 0.5
             },
             "pattern": {
              "fillmode": "overlay",
              "size": 10,
              "solidity": 0.2
             }
            },
            "type": "bar"
           }
          ],
          "barpolar": [
           {
            "marker": {
             "line": {
              "color": "#E5ECF6",
              "width": 0.5
             },
             "pattern": {
              "fillmode": "overlay",
              "size": 10,
              "solidity": 0.2
             }
            },
            "type": "barpolar"
           }
          ],
          "carpet": [
           {
            "aaxis": {
             "endlinecolor": "#2a3f5f",
             "gridcolor": "white",
             "linecolor": "white",
             "minorgridcolor": "white",
             "startlinecolor": "#2a3f5f"
            },
            "baxis": {
             "endlinecolor": "#2a3f5f",
             "gridcolor": "white",
             "linecolor": "white",
             "minorgridcolor": "white",
             "startlinecolor": "#2a3f5f"
            },
            "type": "carpet"
           }
          ],
          "choropleth": [
           {
            "colorbar": {
             "outlinewidth": 0,
             "ticks": ""
            },
            "type": "choropleth"
           }
          ],
          "contour": [
           {
            "colorbar": {
             "outlinewidth": 0,
             "ticks": ""
            },
            "colorscale": [
             [
              0,
              "#0d0887"
             ],
             [
              0.1111111111111111,
              "#46039f"
             ],
             [
              0.2222222222222222,
              "#7201a8"
             ],
             [
              0.3333333333333333,
              "#9c179e"
             ],
             [
              0.4444444444444444,
              "#bd3786"
             ],
             [
              0.5555555555555556,
              "#d8576b"
             ],
             [
              0.6666666666666666,
              "#ed7953"
             ],
             [
              0.7777777777777778,
              "#fb9f3a"
             ],
             [
              0.8888888888888888,
              "#fdca26"
             ],
             [
              1,
              "#f0f921"
             ]
            ],
            "type": "contour"
           }
          ],
          "contourcarpet": [
           {
            "colorbar": {
             "outlinewidth": 0,
             "ticks": ""
            },
            "type": "contourcarpet"
           }
          ],
          "heatmap": [
           {
            "colorbar": {
             "outlinewidth": 0,
             "ticks": ""
            },
            "colorscale": [
             [
              0,
              "#0d0887"
             ],
             [
              0.1111111111111111,
              "#46039f"
             ],
             [
              0.2222222222222222,
              "#7201a8"
             ],
             [
              0.3333333333333333,
              "#9c179e"
             ],
             [
              0.4444444444444444,
              "#bd3786"
             ],
             [
              0.5555555555555556,
              "#d8576b"
             ],
             [
              0.6666666666666666,
              "#ed7953"
             ],
             [
              0.7777777777777778,
              "#fb9f3a"
             ],
             [
              0.8888888888888888,
              "#fdca26"
             ],
             [
              1,
              "#f0f921"
             ]
            ],
            "type": "heatmap"
           }
          ],
          "heatmapgl": [
           {
            "colorbar": {
             "outlinewidth": 0,
             "ticks": ""
            },
            "colorscale": [
             [
              0,
              "#0d0887"
             ],
             [
              0.1111111111111111,
              "#46039f"
             ],
             [
              0.2222222222222222,
              "#7201a8"
             ],
             [
              0.3333333333333333,
              "#9c179e"
             ],
             [
              0.4444444444444444,
              "#bd3786"
             ],
             [
              0.5555555555555556,
              "#d8576b"
             ],
             [
              0.6666666666666666,
              "#ed7953"
             ],
             [
              0.7777777777777778,
              "#fb9f3a"
             ],
             [
              0.8888888888888888,
              "#fdca26"
             ],
             [
              1,
              "#f0f921"
             ]
            ],
            "type": "heatmapgl"
           }
          ],
          "histogram": [
           {
            "marker": {
             "pattern": {
              "fillmode": "overlay",
              "size": 10,
              "solidity": 0.2
             }
            },
            "type": "histogram"
           }
          ],
          "histogram2d": [
           {
            "colorbar": {
             "outlinewidth": 0,
             "ticks": ""
            },
            "colorscale": [
             [
              0,
              "#0d0887"
             ],
             [
              0.1111111111111111,
              "#46039f"
             ],
             [
              0.2222222222222222,
              "#7201a8"
             ],
             [
              0.3333333333333333,
              "#9c179e"
             ],
             [
              0.4444444444444444,
              "#bd3786"
             ],
             [
              0.5555555555555556,
              "#d8576b"
             ],
             [
              0.6666666666666666,
              "#ed7953"
             ],
             [
              0.7777777777777778,
              "#fb9f3a"
             ],
             [
              0.8888888888888888,
              "#fdca26"
             ],
             [
              1,
              "#f0f921"
             ]
            ],
            "type": "histogram2d"
           }
          ],
          "histogram2dcontour": [
           {
            "colorbar": {
             "outlinewidth": 0,
             "ticks": ""
            },
            "colorscale": [
             [
              0,
              "#0d0887"
             ],
             [
              0.1111111111111111,
              "#46039f"
             ],
             [
              0.2222222222222222,
              "#7201a8"
             ],
             [
              0.3333333333333333,
              "#9c179e"
             ],
             [
              0.4444444444444444,
              "#bd3786"
             ],
             [
              0.5555555555555556,
              "#d8576b"
             ],
             [
              0.6666666666666666,
              "#ed7953"
             ],
             [
              0.7777777777777778,
              "#fb9f3a"
             ],
             [
              0.8888888888888888,
              "#fdca26"
             ],
             [
              1,
              "#f0f921"
             ]
            ],
            "type": "histogram2dcontour"
           }
          ],
          "mesh3d": [
           {
            "colorbar": {
             "outlinewidth": 0,
             "ticks": ""
            },
            "type": "mesh3d"
           }
          ],
          "parcoords": [
           {
            "line": {
             "colorbar": {
              "outlinewidth": 0,
              "ticks": ""
             }
            },
            "type": "parcoords"
           }
          ],
          "pie": [
           {
            "automargin": true,
            "type": "pie"
           }
          ],
          "scatter": [
           {
            "fillpattern": {
             "fillmode": "overlay",
             "size": 10,
             "solidity": 0.2
            },
            "type": "scatter"
           }
          ],
          "scatter3d": [
           {
            "line": {
             "colorbar": {
              "outlinewidth": 0,
              "ticks": ""
             }
            },
            "marker": {
             "colorbar": {
              "outlinewidth": 0,
              "ticks": ""
             }
            },
            "type": "scatter3d"
           }
          ],
          "scattercarpet": [
           {
            "marker": {
             "colorbar": {
              "outlinewidth": 0,
              "ticks": ""
             }
            },
            "type": "scattercarpet"
           }
          ],
          "scattergeo": [
           {
            "marker": {
             "colorbar": {
              "outlinewidth": 0,
              "ticks": ""
             }
            },
            "type": "scattergeo"
           }
          ],
          "scattergl": [
           {
            "marker": {
             "colorbar": {
              "outlinewidth": 0,
              "ticks": ""
             }
            },
            "type": "scattergl"
           }
          ],
          "scattermapbox": [
           {
            "marker": {
             "colorbar": {
              "outlinewidth": 0,
              "ticks": ""
             }
            },
            "type": "scattermapbox"
           }
          ],
          "scatterpolar": [
           {
            "marker": {
             "colorbar": {
              "outlinewidth": 0,
              "ticks": ""
             }
            },
            "type": "scatterpolar"
           }
          ],
          "scatterpolargl": [
           {
            "marker": {
             "colorbar": {
              "outlinewidth": 0,
              "ticks": ""
             }
            },
            "type": "scatterpolargl"
           }
          ],
          "scatterternary": [
           {
            "marker": {
             "colorbar": {
              "outlinewidth": 0,
              "ticks": ""
             }
            },
            "type": "scatterternary"
           }
          ],
          "surface": [
           {
            "colorbar": {
             "outlinewidth": 0,
             "ticks": ""
            },
            "colorscale": [
             [
              0,
              "#0d0887"
             ],
             [
              0.1111111111111111,
              "#46039f"
             ],
             [
              0.2222222222222222,
              "#7201a8"
             ],
             [
              0.3333333333333333,
              "#9c179e"
             ],
             [
              0.4444444444444444,
              "#bd3786"
             ],
             [
              0.5555555555555556,
              "#d8576b"
             ],
             [
              0.6666666666666666,
              "#ed7953"
             ],
             [
              0.7777777777777778,
              "#fb9f3a"
             ],
             [
              0.8888888888888888,
              "#fdca26"
             ],
             [
              1,
              "#f0f921"
             ]
            ],
            "type": "surface"
           }
          ],
          "table": [
           {
            "cells": {
             "fill": {
              "color": "#EBF0F8"
             },
             "line": {
              "color": "white"
             }
            },
            "header": {
             "fill": {
              "color": "#C8D4E3"
             },
             "line": {
              "color": "white"
             }
            },
            "type": "table"
           }
          ]
         },
         "layout": {
          "annotationdefaults": {
           "arrowcolor": "#2a3f5f",
           "arrowhead": 0,
           "arrowwidth": 1
          },
          "autotypenumbers": "strict",
          "coloraxis": {
           "colorbar": {
            "outlinewidth": 0,
            "ticks": ""
           }
          },
          "colorscale": {
           "diverging": [
            [
             0,
             "#8e0152"
            ],
            [
             0.1,
             "#c51b7d"
            ],
            [
             0.2,
             "#de77ae"
            ],
            [
             0.3,
             "#f1b6da"
            ],
            [
             0.4,
             "#fde0ef"
            ],
            [
             0.5,
             "#f7f7f7"
            ],
            [
             0.6,
             "#e6f5d0"
            ],
            [
             0.7,
             "#b8e186"
            ],
            [
             0.8,
             "#7fbc41"
            ],
            [
             0.9,
             "#4d9221"
            ],
            [
             1,
             "#276419"
            ]
           ],
           "sequential": [
            [
             0,
             "#0d0887"
            ],
            [
             0.1111111111111111,
             "#46039f"
            ],
            [
             0.2222222222222222,
             "#7201a8"
            ],
            [
             0.3333333333333333,
             "#9c179e"
            ],
            [
             0.4444444444444444,
             "#bd3786"
            ],
            [
             0.5555555555555556,
             "#d8576b"
            ],
            [
             0.6666666666666666,
             "#ed7953"
            ],
            [
             0.7777777777777778,
             "#fb9f3a"
            ],
            [
             0.8888888888888888,
             "#fdca26"
            ],
            [
             1,
             "#f0f921"
            ]
           ],
           "sequentialminus": [
            [
             0,
             "#0d0887"
            ],
            [
             0.1111111111111111,
             "#46039f"
            ],
            [
             0.2222222222222222,
             "#7201a8"
            ],
            [
             0.3333333333333333,
             "#9c179e"
            ],
            [
             0.4444444444444444,
             "#bd3786"
            ],
            [
             0.5555555555555556,
             "#d8576b"
            ],
            [
             0.6666666666666666,
             "#ed7953"
            ],
            [
             0.7777777777777778,
             "#fb9f3a"
            ],
            [
             0.8888888888888888,
             "#fdca26"
            ],
            [
             1,
             "#f0f921"
            ]
           ]
          },
          "colorway": [
           "#636efa",
           "#EF553B",
           "#00cc96",
           "#ab63fa",
           "#FFA15A",
           "#19d3f3",
           "#FF6692",
           "#B6E880",
           "#FF97FF",
           "#FECB52"
          ],
          "font": {
           "color": "#2a3f5f"
          },
          "geo": {
           "bgcolor": "white",
           "lakecolor": "white",
           "landcolor": "#E5ECF6",
           "showlakes": true,
           "showland": true,
           "subunitcolor": "white"
          },
          "hoverlabel": {
           "align": "left"
          },
          "hovermode": "closest",
          "mapbox": {
           "style": "light"
          },
          "paper_bgcolor": "white",
          "plot_bgcolor": "#E5ECF6",
          "polar": {
           "angularaxis": {
            "gridcolor": "white",
            "linecolor": "white",
            "ticks": ""
           },
           "bgcolor": "#E5ECF6",
           "radialaxis": {
            "gridcolor": "white",
            "linecolor": "white",
            "ticks": ""
           }
          },
          "scene": {
           "xaxis": {
            "backgroundcolor": "#E5ECF6",
            "gridcolor": "white",
            "gridwidth": 2,
            "linecolor": "white",
            "showbackground": true,
            "ticks": "",
            "zerolinecolor": "white"
           },
           "yaxis": {
            "backgroundcolor": "#E5ECF6",
            "gridcolor": "white",
            "gridwidth": 2,
            "linecolor": "white",
            "showbackground": true,
            "ticks": "",
            "zerolinecolor": "white"
           },
           "zaxis": {
            "backgroundcolor": "#E5ECF6",
            "gridcolor": "white",
            "gridwidth": 2,
            "linecolor": "white",
            "showbackground": true,
            "ticks": "",
            "zerolinecolor": "white"
           }
          },
          "shapedefaults": {
           "line": {
            "color": "#2a3f5f"
           }
          },
          "ternary": {
           "aaxis": {
            "gridcolor": "white",
            "linecolor": "white",
            "ticks": ""
           },
           "baxis": {
            "gridcolor": "white",
            "linecolor": "white",
            "ticks": ""
           },
           "bgcolor": "#E5ECF6",
           "caxis": {
            "gridcolor": "white",
            "linecolor": "white",
            "ticks": ""
           }
          },
          "title": {
           "x": 0.05
          },
          "xaxis": {
           "automargin": true,
           "gridcolor": "white",
           "linecolor": "white",
           "ticks": "",
           "title": {
            "standoff": 15
           },
           "zerolinecolor": "white",
           "zerolinewidth": 2
          },
          "yaxis": {
           "automargin": true,
           "gridcolor": "white",
           "linecolor": "white",
           "ticks": "",
           "title": {
            "standoff": 15
           },
           "zerolinecolor": "white",
           "zerolinewidth": 2
          }
         }
        }
       }
      }
     },
     "metadata": {},
     "output_type": "display_data"
    }
   ],
   "source": [
    "import plotly.graph_objects as go\n",
    "fig = go.Figure()\n",
    "fig.add_trace(go.Scatter(x=Xe,\n",
    "                   y=Ye,\n",
    "                   mode='lines',\n",
    "                   line=dict(color='rgb(210,210,210)', width=1),\n",
    "                   hoverinfo='none'\n",
    "                   ))\n",
    "fig.add_trace(go.Scatter(x=Xn,\n",
    "                  y=Yn,\n",
    "                  mode='markers',\n",
    "                  name='bla',\n",
    "                  marker=dict(symbol='circle-dot',\n",
    "                                size=18,\n",
    "                                color='#6175c1',    #'#DB4551',\n",
    "                                line=dict(color='rgb(50,50,50)', width=1)\n",
    "                                ),\n",
    "                  text=labels,\n",
    "                  hoverinfo='text',\n",
    "                  opacity=0.8\n",
    "                  ))"
   ]
  },
  {
   "cell_type": "code",
   "execution_count": 7,
   "metadata": {},
   "outputs": [],
   "source": [
    "\n",
    "def make_annotations(pos, text, font_size=10, font_color='rgb(250,250,250)'):\n",
    "    L=len(pos)\n",
    "    if len(text)!=L:\n",
    "        raise ValueError('The lists pos and text must have the same len')\n",
    "    annotations = []\n",
    "    for k in range(L):\n",
    "        annotations.append(\n",
    "            dict(\n",
    "                text=labels[k], # or replace labels with a different list for the text within the circle\n",
    "                x=pos[k][0], y=2*M-position[k][1],\n",
    "                xref='x1', yref='y1',\n",
    "                font=dict(color=font_color, size=font_size),\n",
    "                showarrow=False)\n",
    "        )\n",
    "    return annotations"
   ]
  },
  {
   "cell_type": "code",
   "execution_count": 13,
   "metadata": {},
   "outputs": [
    {
     "data": {
      "application/vnd.plotly.v1+json": {
       "config": {
        "plotlyServerURL": "https://plot.ly"
       },
       "data": [
        {
         "hoverinfo": "none",
         "line": {
          "color": "rgb(210,210,210)",
          "width": 1
         },
         "mode": "lines",
         "type": "scatter",
         "x": [
          -3.333333333333333,
          -3.333333333333333,
          null,
          -3.333333333333333,
          0,
          null,
          -3.333333333333333,
          -5.333333333333333,
          null,
          -3.333333333333333,
          -1.333333333333333,
          null,
          0,
          0.666666666666667,
          null,
          0,
          2.666666666666667,
          null,
          -5.333333333333333,
          -6.333333333333333,
          null,
          -5.333333333333333,
          -4.333333333333333,
          null,
          -1.333333333333333,
          -2.333333333333333,
          null,
          -1.333333333333333,
          -0.33333333333333304,
          null,
          0.666666666666667,
          0.16666666666666696,
          null,
          0.666666666666667,
          1.166666666666667,
          null,
          2.666666666666667,
          2.166666666666667,
          null,
          2.666666666666667,
          3.166666666666667,
          null,
          -6.333333333333333,
          -6.833333333333333,
          null,
          -6.333333333333333,
          -5.833333333333333,
          null,
          -4.333333333333333,
          -4.833333333333333,
          null,
          -4.333333333333333,
          -3.833333333333333,
          null,
          -2.333333333333333,
          -2.833333333333333,
          null,
          -2.333333333333333,
          -1.833333333333333,
          null,
          -0.33333333333333304,
          -0.833333333333333,
          null,
          -0.33333333333333304,
          0.16666666666666696,
          null,
          0.16666666666666696,
          -0.33333333333333304,
          null,
          0.16666666666666696,
          0.666666666666667,
          null
         ],
         "y": [
          9,
          8,
          null,
          9,
          10,
          null,
          8,
          7,
          null,
          8,
          7,
          null,
          10,
          9,
          null,
          10,
          9,
          null,
          7,
          6,
          null,
          7,
          6,
          null,
          7,
          6,
          null,
          7,
          6,
          null,
          9,
          8,
          null,
          9,
          8,
          null,
          9,
          8,
          null,
          9,
          8,
          null,
          6,
          5,
          null,
          6,
          5,
          null,
          6,
          5,
          null,
          6,
          5,
          null,
          6,
          5,
          null,
          6,
          5,
          null,
          6,
          5,
          null,
          6,
          5,
          null,
          8,
          7,
          null,
          8,
          7,
          null
         ]
        },
        {
         "hoverinfo": "text",
         "marker": {
          "color": "#6175c1",
          "line": {
           "color": "rgb(50,50,50)",
           "width": 1
          },
          "size": 18,
          "symbol": "circle-dot"
         },
         "mode": "markers",
         "name": "bla",
         "opacity": 0.8,
         "text": [
          "0",
          "1",
          "2",
          "3",
          "4",
          "5",
          "6",
          "7",
          "8",
          "9",
          "10",
          "11",
          "12",
          "13",
          "14",
          "15",
          "16",
          "17",
          "18",
          "19",
          "20",
          "21",
          "22",
          "23",
          "24"
         ],
         "type": "scatter",
         "x": [
          -3.333333333333333,
          -3.333333333333333,
          0,
          -5.333333333333333,
          -1.333333333333333,
          0.666666666666667,
          2.666666666666667,
          -6.333333333333333,
          -4.333333333333333,
          -2.333333333333333,
          -0.33333333333333304,
          0.16666666666666696,
          1.166666666666667,
          2.166666666666667,
          3.166666666666667,
          -6.833333333333333,
          -5.833333333333333,
          -4.833333333333333,
          -3.833333333333333,
          -2.833333333333333,
          -1.833333333333333,
          -0.833333333333333,
          0.16666666666666696,
          -0.33333333333333304,
          0.666666666666667
         ],
         "y": [
          9,
          8,
          10,
          7,
          7,
          9,
          9,
          6,
          6,
          6,
          6,
          8,
          8,
          8,
          8,
          5,
          5,
          5,
          5,
          5,
          5,
          5,
          5,
          7,
          7
         ]
        }
       ],
       "layout": {
        "annotations": [
         {
          "font": {
           "color": "rgb(250,250,250)",
           "size": 10
          },
          "showarrow": false,
          "text": "0",
          "x": -3.333333333333333,
          "xref": "x",
          "y": 9,
          "yref": "y"
         },
         {
          "font": {
           "color": "rgb(250,250,250)",
           "size": 10
          },
          "showarrow": false,
          "text": "1",
          "x": -3.333333333333333,
          "xref": "x",
          "y": 8,
          "yref": "y"
         },
         {
          "font": {
           "color": "rgb(250,250,250)",
           "size": 10
          },
          "showarrow": false,
          "text": "2",
          "x": 0,
          "xref": "x",
          "y": 10,
          "yref": "y"
         },
         {
          "font": {
           "color": "rgb(250,250,250)",
           "size": 10
          },
          "showarrow": false,
          "text": "3",
          "x": -5.333333333333333,
          "xref": "x",
          "y": 7,
          "yref": "y"
         },
         {
          "font": {
           "color": "rgb(250,250,250)",
           "size": 10
          },
          "showarrow": false,
          "text": "4",
          "x": -1.333333333333333,
          "xref": "x",
          "y": 7,
          "yref": "y"
         },
         {
          "font": {
           "color": "rgb(250,250,250)",
           "size": 10
          },
          "showarrow": false,
          "text": "5",
          "x": 0.666666666666667,
          "xref": "x",
          "y": 9,
          "yref": "y"
         },
         {
          "font": {
           "color": "rgb(250,250,250)",
           "size": 10
          },
          "showarrow": false,
          "text": "6",
          "x": 2.666666666666667,
          "xref": "x",
          "y": 9,
          "yref": "y"
         },
         {
          "font": {
           "color": "rgb(250,250,250)",
           "size": 10
          },
          "showarrow": false,
          "text": "7",
          "x": -6.333333333333333,
          "xref": "x",
          "y": 6,
          "yref": "y"
         },
         {
          "font": {
           "color": "rgb(250,250,250)",
           "size": 10
          },
          "showarrow": false,
          "text": "8",
          "x": -4.333333333333333,
          "xref": "x",
          "y": 6,
          "yref": "y"
         },
         {
          "font": {
           "color": "rgb(250,250,250)",
           "size": 10
          },
          "showarrow": false,
          "text": "9",
          "x": -2.333333333333333,
          "xref": "x",
          "y": 6,
          "yref": "y"
         },
         {
          "font": {
           "color": "rgb(250,250,250)",
           "size": 10
          },
          "showarrow": false,
          "text": "10",
          "x": -0.33333333333333304,
          "xref": "x",
          "y": 6,
          "yref": "y"
         },
         {
          "font": {
           "color": "rgb(250,250,250)",
           "size": 10
          },
          "showarrow": false,
          "text": "11",
          "x": 0.16666666666666696,
          "xref": "x",
          "y": 8,
          "yref": "y"
         },
         {
          "font": {
           "color": "rgb(250,250,250)",
           "size": 10
          },
          "showarrow": false,
          "text": "12",
          "x": 1.166666666666667,
          "xref": "x",
          "y": 8,
          "yref": "y"
         },
         {
          "font": {
           "color": "rgb(250,250,250)",
           "size": 10
          },
          "showarrow": false,
          "text": "13",
          "x": 2.166666666666667,
          "xref": "x",
          "y": 8,
          "yref": "y"
         },
         {
          "font": {
           "color": "rgb(250,250,250)",
           "size": 10
          },
          "showarrow": false,
          "text": "14",
          "x": 3.166666666666667,
          "xref": "x",
          "y": 8,
          "yref": "y"
         },
         {
          "font": {
           "color": "rgb(250,250,250)",
           "size": 10
          },
          "showarrow": false,
          "text": "15",
          "x": -6.833333333333333,
          "xref": "x",
          "y": 5,
          "yref": "y"
         },
         {
          "font": {
           "color": "rgb(250,250,250)",
           "size": 10
          },
          "showarrow": false,
          "text": "16",
          "x": -5.833333333333333,
          "xref": "x",
          "y": 5,
          "yref": "y"
         },
         {
          "font": {
           "color": "rgb(250,250,250)",
           "size": 10
          },
          "showarrow": false,
          "text": "17",
          "x": -4.833333333333333,
          "xref": "x",
          "y": 5,
          "yref": "y"
         },
         {
          "font": {
           "color": "rgb(250,250,250)",
           "size": 10
          },
          "showarrow": false,
          "text": "18",
          "x": -3.833333333333333,
          "xref": "x",
          "y": 5,
          "yref": "y"
         },
         {
          "font": {
           "color": "rgb(250,250,250)",
           "size": 10
          },
          "showarrow": false,
          "text": "19",
          "x": -2.833333333333333,
          "xref": "x",
          "y": 5,
          "yref": "y"
         },
         {
          "font": {
           "color": "rgb(250,250,250)",
           "size": 10
          },
          "showarrow": false,
          "text": "20",
          "x": -1.833333333333333,
          "xref": "x",
          "y": 5,
          "yref": "y"
         },
         {
          "font": {
           "color": "rgb(250,250,250)",
           "size": 10
          },
          "showarrow": false,
          "text": "21",
          "x": -0.833333333333333,
          "xref": "x",
          "y": 5,
          "yref": "y"
         },
         {
          "font": {
           "color": "rgb(250,250,250)",
           "size": 10
          },
          "showarrow": false,
          "text": "22",
          "x": 0.16666666666666696,
          "xref": "x",
          "y": 5,
          "yref": "y"
         },
         {
          "font": {
           "color": "rgb(250,250,250)",
           "size": 10
          },
          "showarrow": false,
          "text": "23",
          "x": -0.33333333333333304,
          "xref": "x",
          "y": 7,
          "yref": "y"
         },
         {
          "font": {
           "color": "rgb(250,250,250)",
           "size": 10
          },
          "showarrow": false,
          "text": "24",
          "x": 0.666666666666667,
          "xref": "x",
          "y": 7,
          "yref": "y"
         }
        ],
        "font": {
         "size": 12
        },
        "hovermode": "closest",
        "margin": {
         "b": 85,
         "l": 40,
         "r": 40,
         "t": 100
        },
        "plot_bgcolor": "rgb(248,248,248)",
        "showlegend": false,
        "template": {
         "data": {
          "bar": [
           {
            "error_x": {
             "color": "#2a3f5f"
            },
            "error_y": {
             "color": "#2a3f5f"
            },
            "marker": {
             "line": {
              "color": "#E5ECF6",
              "width": 0.5
             },
             "pattern": {
              "fillmode": "overlay",
              "size": 10,
              "solidity": 0.2
             }
            },
            "type": "bar"
           }
          ],
          "barpolar": [
           {
            "marker": {
             "line": {
              "color": "#E5ECF6",
              "width": 0.5
             },
             "pattern": {
              "fillmode": "overlay",
              "size": 10,
              "solidity": 0.2
             }
            },
            "type": "barpolar"
           }
          ],
          "carpet": [
           {
            "aaxis": {
             "endlinecolor": "#2a3f5f",
             "gridcolor": "white",
             "linecolor": "white",
             "minorgridcolor": "white",
             "startlinecolor": "#2a3f5f"
            },
            "baxis": {
             "endlinecolor": "#2a3f5f",
             "gridcolor": "white",
             "linecolor": "white",
             "minorgridcolor": "white",
             "startlinecolor": "#2a3f5f"
            },
            "type": "carpet"
           }
          ],
          "choropleth": [
           {
            "colorbar": {
             "outlinewidth": 0,
             "ticks": ""
            },
            "type": "choropleth"
           }
          ],
          "contour": [
           {
            "colorbar": {
             "outlinewidth": 0,
             "ticks": ""
            },
            "colorscale": [
             [
              0,
              "#0d0887"
             ],
             [
              0.1111111111111111,
              "#46039f"
             ],
             [
              0.2222222222222222,
              "#7201a8"
             ],
             [
              0.3333333333333333,
              "#9c179e"
             ],
             [
              0.4444444444444444,
              "#bd3786"
             ],
             [
              0.5555555555555556,
              "#d8576b"
             ],
             [
              0.6666666666666666,
              "#ed7953"
             ],
             [
              0.7777777777777778,
              "#fb9f3a"
             ],
             [
              0.8888888888888888,
              "#fdca26"
             ],
             [
              1,
              "#f0f921"
             ]
            ],
            "type": "contour"
           }
          ],
          "contourcarpet": [
           {
            "colorbar": {
             "outlinewidth": 0,
             "ticks": ""
            },
            "type": "contourcarpet"
           }
          ],
          "heatmap": [
           {
            "colorbar": {
             "outlinewidth": 0,
             "ticks": ""
            },
            "colorscale": [
             [
              0,
              "#0d0887"
             ],
             [
              0.1111111111111111,
              "#46039f"
             ],
             [
              0.2222222222222222,
              "#7201a8"
             ],
             [
              0.3333333333333333,
              "#9c179e"
             ],
             [
              0.4444444444444444,
              "#bd3786"
             ],
             [
              0.5555555555555556,
              "#d8576b"
             ],
             [
              0.6666666666666666,
              "#ed7953"
             ],
             [
              0.7777777777777778,
              "#fb9f3a"
             ],
             [
              0.8888888888888888,
              "#fdca26"
             ],
             [
              1,
              "#f0f921"
             ]
            ],
            "type": "heatmap"
           }
          ],
          "heatmapgl": [
           {
            "colorbar": {
             "outlinewidth": 0,
             "ticks": ""
            },
            "colorscale": [
             [
              0,
              "#0d0887"
             ],
             [
              0.1111111111111111,
              "#46039f"
             ],
             [
              0.2222222222222222,
              "#7201a8"
             ],
             [
              0.3333333333333333,
              "#9c179e"
             ],
             [
              0.4444444444444444,
              "#bd3786"
             ],
             [
              0.5555555555555556,
              "#d8576b"
             ],
             [
              0.6666666666666666,
              "#ed7953"
             ],
             [
              0.7777777777777778,
              "#fb9f3a"
             ],
             [
              0.8888888888888888,
              "#fdca26"
             ],
             [
              1,
              "#f0f921"
             ]
            ],
            "type": "heatmapgl"
           }
          ],
          "histogram": [
           {
            "marker": {
             "pattern": {
              "fillmode": "overlay",
              "size": 10,
              "solidity": 0.2
             }
            },
            "type": "histogram"
           }
          ],
          "histogram2d": [
           {
            "colorbar": {
             "outlinewidth": 0,
             "ticks": ""
            },
            "colorscale": [
             [
              0,
              "#0d0887"
             ],
             [
              0.1111111111111111,
              "#46039f"
             ],
             [
              0.2222222222222222,
              "#7201a8"
             ],
             [
              0.3333333333333333,
              "#9c179e"
             ],
             [
              0.4444444444444444,
              "#bd3786"
             ],
             [
              0.5555555555555556,
              "#d8576b"
             ],
             [
              0.6666666666666666,
              "#ed7953"
             ],
             [
              0.7777777777777778,
              "#fb9f3a"
             ],
             [
              0.8888888888888888,
              "#fdca26"
             ],
             [
              1,
              "#f0f921"
             ]
            ],
            "type": "histogram2d"
           }
          ],
          "histogram2dcontour": [
           {
            "colorbar": {
             "outlinewidth": 0,
             "ticks": ""
            },
            "colorscale": [
             [
              0,
              "#0d0887"
             ],
             [
              0.1111111111111111,
              "#46039f"
             ],
             [
              0.2222222222222222,
              "#7201a8"
             ],
             [
              0.3333333333333333,
              "#9c179e"
             ],
             [
              0.4444444444444444,
              "#bd3786"
             ],
             [
              0.5555555555555556,
              "#d8576b"
             ],
             [
              0.6666666666666666,
              "#ed7953"
             ],
             [
              0.7777777777777778,
              "#fb9f3a"
             ],
             [
              0.8888888888888888,
              "#fdca26"
             ],
             [
              1,
              "#f0f921"
             ]
            ],
            "type": "histogram2dcontour"
           }
          ],
          "mesh3d": [
           {
            "colorbar": {
             "outlinewidth": 0,
             "ticks": ""
            },
            "type": "mesh3d"
           }
          ],
          "parcoords": [
           {
            "line": {
             "colorbar": {
              "outlinewidth": 0,
              "ticks": ""
             }
            },
            "type": "parcoords"
           }
          ],
          "pie": [
           {
            "automargin": true,
            "type": "pie"
           }
          ],
          "scatter": [
           {
            "fillpattern": {
             "fillmode": "overlay",
             "size": 10,
             "solidity": 0.2
            },
            "type": "scatter"
           }
          ],
          "scatter3d": [
           {
            "line": {
             "colorbar": {
              "outlinewidth": 0,
              "ticks": ""
             }
            },
            "marker": {
             "colorbar": {
              "outlinewidth": 0,
              "ticks": ""
             }
            },
            "type": "scatter3d"
           }
          ],
          "scattercarpet": [
           {
            "marker": {
             "colorbar": {
              "outlinewidth": 0,
              "ticks": ""
             }
            },
            "type": "scattercarpet"
           }
          ],
          "scattergeo": [
           {
            "marker": {
             "colorbar": {
              "outlinewidth": 0,
              "ticks": ""
             }
            },
            "type": "scattergeo"
           }
          ],
          "scattergl": [
           {
            "marker": {
             "colorbar": {
              "outlinewidth": 0,
              "ticks": ""
             }
            },
            "type": "scattergl"
           }
          ],
          "scattermapbox": [
           {
            "marker": {
             "colorbar": {
              "outlinewidth": 0,
              "ticks": ""
             }
            },
            "type": "scattermapbox"
           }
          ],
          "scatterpolar": [
           {
            "marker": {
             "colorbar": {
              "outlinewidth": 0,
              "ticks": ""
             }
            },
            "type": "scatterpolar"
           }
          ],
          "scatterpolargl": [
           {
            "marker": {
             "colorbar": {
              "outlinewidth": 0,
              "ticks": ""
             }
            },
            "type": "scatterpolargl"
           }
          ],
          "scatterternary": [
           {
            "marker": {
             "colorbar": {
              "outlinewidth": 0,
              "ticks": ""
             }
            },
            "type": "scatterternary"
           }
          ],
          "surface": [
           {
            "colorbar": {
             "outlinewidth": 0,
             "ticks": ""
            },
            "colorscale": [
             [
              0,
              "#0d0887"
             ],
             [
              0.1111111111111111,
              "#46039f"
             ],
             [
              0.2222222222222222,
              "#7201a8"
             ],
             [
              0.3333333333333333,
              "#9c179e"
             ],
             [
              0.4444444444444444,
              "#bd3786"
             ],
             [
              0.5555555555555556,
              "#d8576b"
             ],
             [
              0.6666666666666666,
              "#ed7953"
             ],
             [
              0.7777777777777778,
              "#fb9f3a"
             ],
             [
              0.8888888888888888,
              "#fdca26"
             ],
             [
              1,
              "#f0f921"
             ]
            ],
            "type": "surface"
           }
          ],
          "table": [
           {
            "cells": {
             "fill": {
              "color": "#EBF0F8"
             },
             "line": {
              "color": "white"
             }
            },
            "header": {
             "fill": {
              "color": "#C8D4E3"
             },
             "line": {
              "color": "white"
             }
            },
            "type": "table"
           }
          ]
         },
         "layout": {
          "annotationdefaults": {
           "arrowcolor": "#2a3f5f",
           "arrowhead": 0,
           "arrowwidth": 1
          },
          "autotypenumbers": "strict",
          "coloraxis": {
           "colorbar": {
            "outlinewidth": 0,
            "ticks": ""
           }
          },
          "colorscale": {
           "diverging": [
            [
             0,
             "#8e0152"
            ],
            [
             0.1,
             "#c51b7d"
            ],
            [
             0.2,
             "#de77ae"
            ],
            [
             0.3,
             "#f1b6da"
            ],
            [
             0.4,
             "#fde0ef"
            ],
            [
             0.5,
             "#f7f7f7"
            ],
            [
             0.6,
             "#e6f5d0"
            ],
            [
             0.7,
             "#b8e186"
            ],
            [
             0.8,
             "#7fbc41"
            ],
            [
             0.9,
             "#4d9221"
            ],
            [
             1,
             "#276419"
            ]
           ],
           "sequential": [
            [
             0,
             "#0d0887"
            ],
            [
             0.1111111111111111,
             "#46039f"
            ],
            [
             0.2222222222222222,
             "#7201a8"
            ],
            [
             0.3333333333333333,
             "#9c179e"
            ],
            [
             0.4444444444444444,
             "#bd3786"
            ],
            [
             0.5555555555555556,
             "#d8576b"
            ],
            [
             0.6666666666666666,
             "#ed7953"
            ],
            [
             0.7777777777777778,
             "#fb9f3a"
            ],
            [
             0.8888888888888888,
             "#fdca26"
            ],
            [
             1,
             "#f0f921"
            ]
           ],
           "sequentialminus": [
            [
             0,
             "#0d0887"
            ],
            [
             0.1111111111111111,
             "#46039f"
            ],
            [
             0.2222222222222222,
             "#7201a8"
            ],
            [
             0.3333333333333333,
             "#9c179e"
            ],
            [
             0.4444444444444444,
             "#bd3786"
            ],
            [
             0.5555555555555556,
             "#d8576b"
            ],
            [
             0.6666666666666666,
             "#ed7953"
            ],
            [
             0.7777777777777778,
             "#fb9f3a"
            ],
            [
             0.8888888888888888,
             "#fdca26"
            ],
            [
             1,
             "#f0f921"
            ]
           ]
          },
          "colorway": [
           "#636efa",
           "#EF553B",
           "#00cc96",
           "#ab63fa",
           "#FFA15A",
           "#19d3f3",
           "#FF6692",
           "#B6E880",
           "#FF97FF",
           "#FECB52"
          ],
          "font": {
           "color": "#2a3f5f"
          },
          "geo": {
           "bgcolor": "white",
           "lakecolor": "white",
           "landcolor": "#E5ECF6",
           "showlakes": true,
           "showland": true,
           "subunitcolor": "white"
          },
          "hoverlabel": {
           "align": "left"
          },
          "hovermode": "closest",
          "mapbox": {
           "style": "light"
          },
          "paper_bgcolor": "white",
          "plot_bgcolor": "#E5ECF6",
          "polar": {
           "angularaxis": {
            "gridcolor": "white",
            "linecolor": "white",
            "ticks": ""
           },
           "bgcolor": "#E5ECF6",
           "radialaxis": {
            "gridcolor": "white",
            "linecolor": "white",
            "ticks": ""
           }
          },
          "scene": {
           "xaxis": {
            "backgroundcolor": "#E5ECF6",
            "gridcolor": "white",
            "gridwidth": 2,
            "linecolor": "white",
            "showbackground": true,
            "ticks": "",
            "zerolinecolor": "white"
           },
           "yaxis": {
            "backgroundcolor": "#E5ECF6",
            "gridcolor": "white",
            "gridwidth": 2,
            "linecolor": "white",
            "showbackground": true,
            "ticks": "",
            "zerolinecolor": "white"
           },
           "zaxis": {
            "backgroundcolor": "#E5ECF6",
            "gridcolor": "white",
            "gridwidth": 2,
            "linecolor": "white",
            "showbackground": true,
            "ticks": "",
            "zerolinecolor": "white"
           }
          },
          "shapedefaults": {
           "line": {
            "color": "#2a3f5f"
           }
          },
          "ternary": {
           "aaxis": {
            "gridcolor": "white",
            "linecolor": "white",
            "ticks": ""
           },
           "baxis": {
            "gridcolor": "white",
            "linecolor": "white",
            "ticks": ""
           },
           "bgcolor": "#E5ECF6",
           "caxis": {
            "gridcolor": "white",
            "linecolor": "white",
            "ticks": ""
           }
          },
          "title": {
           "x": 0.05
          },
          "xaxis": {
           "automargin": true,
           "gridcolor": "white",
           "linecolor": "white",
           "ticks": "",
           "title": {
            "standoff": 15
           },
           "zerolinecolor": "white",
           "zerolinewidth": 2
          },
          "yaxis": {
           "automargin": true,
           "gridcolor": "white",
           "linecolor": "white",
           "ticks": "",
           "title": {
            "standoff": 15
           },
           "zerolinecolor": "white",
           "zerolinewidth": 2
          }
         }
        },
        "title": {
         "text": "Tree with Reingold-Tilford Layout"
        },
        "xaxis": {
         "showgrid": false,
         "showline": false,
         "showticklabels": false,
         "zeroline": false
        },
        "yaxis": {
         "showgrid": false,
         "showline": false,
         "showticklabels": false,
         "zeroline": false
        }
       }
      }
     },
     "metadata": {},
     "output_type": "display_data"
    }
   ],
   "source": [
    "axis = dict(showline=False, # hide axis line, grid, ticklabels and  title\n",
    "            zeroline=False,\n",
    "            showgrid=False,\n",
    "            showticklabels=False,\n",
    "            )\n",
    "\n",
    "fig.update_layout(title= 'Tree with Reingold-Tilford Layout',\n",
    "              annotations=make_annotations(position, v_label),\n",
    "              font_size=12,\n",
    "              showlegend=False,\n",
    "              xaxis=axis,\n",
    "              yaxis=axis,\n",
    "              margin=dict(l=40, r=40, b=85, t=100),\n",
    "              hovermode='closest',\n",
    "              plot_bgcolor='rgb(248,248,248)'\n",
    "              )\n",
    "fig.show()"
   ]
  },
  {
   "cell_type": "code",
   "execution_count": null,
   "metadata": {},
   "outputs": [],
   "source": []
  },
  {
   "cell_type": "code",
   "execution_count": null,
   "metadata": {},
   "outputs": [],
   "source": []
  }
 ],
 "metadata": {
  "kernelspec": {
   "display_name": "Python 3.8.8 ('base')",
   "language": "python",
   "name": "python3"
  },
  "language_info": {
   "codemirror_mode": {
    "name": "ipython",
    "version": 3
   },
   "file_extension": ".py",
   "mimetype": "text/x-python",
   "name": "python",
   "nbconvert_exporter": "python",
   "pygments_lexer": "ipython3",
   "version": "3.8.8"
  },
  "orig_nbformat": 4,
  "vscode": {
   "interpreter": {
    "hash": "bff1ff42cafc5b6e5f930f880e88a492b77f47fc500aae29da8ae4a2313149b3"
   }
  }
 },
 "nbformat": 4,
 "nbformat_minor": 2
}
